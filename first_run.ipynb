{
 "cells": [
  {
   "cell_type": "markdown",
   "id": "afdf826a-6080-4dc5-8f5c-1dcd726af5dd",
   "metadata": {},
   "source": [
    "#### <p style=\"text-align:center;\">Welcome to the <b><span style=\"color:green\">Upply Notebook</span></b>, a notebook dedicated to using OpenAI's ChatGPT (4o-mini) to help generate text for proposals on the freelance site 'Upwork'.</p> \n",
    "##### <p style=\"text-align:center;\">The purpose of this notebook is to <i><span style=\"color:red\">generate seemless prompts</span></i> that are good enough to feel organic and natural, and in no-way AI generated.</p>\n",
    "#### <p style=\"text-align:center;\"><u>A breakdown of what this entails:</u></p>\n",
    "#### 1.) Bringing in a Markdown version of my resume for ChatGPT to reference;\n",
    "#### 2.) Taking in the Job Description from the Upwork Website Via Copy/Paste;\n",
    "#### 3.) Constructing A Prompt Template with ChatGPT; and\n",
    "#### 4.) Generating A Natural-Sounding Proposal\n",
    "***"
   ]
  },
  {
   "cell_type": "code",
   "execution_count": 1,
   "id": "ff4d7f9a-f595-41a8-bdd9-88e39ecfde12",
   "metadata": {},
   "outputs": [],
   "source": [
    "# First and foremost, though: import the python libraries we'll need\n",
    "\n",
    "# to access environmental openai key variable housed in .env file\n",
    "import os\n",
    "from dotenv import load_dotenv\n",
    "\n",
    "# check - should come back 'True'\n",
    "# load_dotenv()\n",
    "\n",
    "# for rich displays in Markdown becuase it is dynamic, unboring text\n",
    "from IPython.display import display, Markdown\n",
    "\n",
    "# use Python's OpenAI package to access the OpenAI API\n",
    "from openai import OpenAI\n",
    "\n",
    "# we want to convert the markdown to HTML for the site's use\n",
    "from markdown import markdown"
   ]
  },
  {
   "cell_type": "markdown",
   "id": "adcf09d1-a8d2-407f-9a76-59e5192a3e56",
   "metadata": {},
   "source": [
    "***\n",
    "#### Step 1: Bringing in a Markdown version of my resume for ChatGPT to reference\n",
    "***"
   ]
  },
  {
   "cell_type": "code",
   "execution_count": 2,
   "id": "11d372a5-4f0f-49ae-948c-709895efcb9c",
   "metadata": {},
   "outputs": [],
   "source": [
    "# open up the saved Markdown resume and read it\n",
    "with open(\"/Users/nicholasjoseph/Desktop/nj_pm_res.md\", \"r\", encoding = \"utf-8\") as resume_file:\n",
    "    resume_string = resume_file.read()\n",
    "\n",
    "# check\n",
    "# display(Markdown(resume_string))"
   ]
  },
  {
   "cell_type": "markdown",
   "id": "0a14d158-0b5a-4201-9d1a-8100b5fa0643",
   "metadata": {},
   "source": [
    "##### the check looked good. python's reading the resume as expected. Now onto:\n",
    "***\n",
    "#### Step 2: Taking In the Job Description from the Upwork Website Via Copy / Paste\n",
    "***"
   ]
  },
  {
   "cell_type": "code",
   "execution_count": 9,
   "id": "e8d8f8a4-98a1-4998-b97d-63ff086ae188",
   "metadata": {},
   "outputs": [
    {
     "name": "stdin",
     "output_type": "stream",
     "text": [
      " We're a fast-growing B2B SaaS product startup with unprecedented growth. With a few extremely large customers coming on board we are looking to fill this gap through a fractional Project Manager/Customer Success leader who will lead all weekly customer calls, keep all deliverables in check and make sure all customer requirements are prioritized for the development team.  This individual will also coordinate with the dev teams, run and manage bi-weekly sprints and make sure all customer requirements are on time through daily stand ups.  This opportunity is for someone who will want to come onboard full time if it works out\n"
     ]
    }
   ],
   "source": [
    "# simple enough because it'll be a physical copy / paste\n",
    "job_description_string = input()"
   ]
  },
  {
   "cell_type": "markdown",
   "id": "9beaaddc-9e92-45f7-b9bc-8132a26d662e",
   "metadata": {},
   "source": [
    "***\n",
    "#### Step 3: Constructing A Prompt Template with ChatGPT\n",
    "##### 'lambda' function is being used here because making the return statement all the prompt text seems ridiculous.\n",
    "##### also, this is a template I prompted ChatGPT with - reason being, let Chat generate it because LLMs talk to LLMs. \n",
    "***"
   ]
  },
  {
   "cell_type": "code",
   "execution_count": 10,
   "id": "fab86969-59c1-422e-bfbf-163798d4f0b1",
   "metadata": {},
   "outputs": [],
   "source": [
    "# essentially, this is a large formatted string assigned to a single variable\n",
    "prompt_template = lambda resume_string, job_description_string : f\"\"\"\n",
    "You are a professional proposal writer writing for clients looking for freelance work on Upwork.\n",
    "\n",
    "Your job is to read a freelancer's resume and a specific job description, then craft a personalized proposal for that job. The proposal should highlight the freelancer's most relevant experience, skills, and accomplishments as they relate to the job description.\n",
    "\n",
    "Use the following guidelines:\n",
    "\n",
    "1. **Tone**: Blend personable warmth with technical competence. Show that the freelancer is both approachable and highly capable.\n",
    "2. **Content focus**: Prioritize skills, tools, and accomplishments that most closely match the job description.\n",
    "3. **Language**: Use confident, active, and natural language with strong action verbs and quantifiable results wherever possible (e.g., \"boosted revenue by 40%\", \"reduced processing time by 60%\", etc.).\n",
    "4. **Length**: Keep the proposal concise (under 200 words), but meaningful.\n",
    "5. **Close strong**: End with a short paragraph inviting the client to connect, ask questions, or discuss the project further.\n",
    "6. **Integrate **keywords** and phrases from the job description naturally to give the text an 'I-read-over-your-post' type of feel.\n",
    "7. **Output the tailored resume in the appropriate Upwork proposal format that is clean and free from errors.\n",
    "\n",
    "---\n",
    "\n",
    "INPUTS:\n",
    "\n",
    "RESUME:\n",
    "<<<\n",
    "{resume_string}\n",
    ">>>\n",
    "\n",
    "JOB DESCRIPTION:\n",
    "<<<\n",
    "{job_description_string}\n",
    ">>>\n",
    "\n",
    "---\n",
    "\n",
    "TASK:\n",
    "Write a complete Upwork proposal tailored to the job description above. Emphasize alignment between the freelancer's background and the project requirements. Don't include unnecessary fluff—make every sentence purposeful and impactful.\n",
    "\n",
    "\"\"\""
   ]
  },
  {
   "cell_type": "code",
   "execution_count": 11,
   "id": "eb9d2ead-a282-49f8-8484-bc7fd6540941",
   "metadata": {},
   "outputs": [],
   "source": [
    "prompt = prompt_template(resume_string, job_description_string)"
   ]
  },
  {
   "cell_type": "markdown",
   "id": "6ed2b18d-0989-4d2c-9939-ce18fdb6bf8f",
   "metadata": {},
   "source": [
    "***\n",
    "#### Step 4: Generating A Natural-Sounding Proposal\n",
    "***"
   ]
  },
  {
   "cell_type": "code",
   "execution_count": 12,
   "id": "b0642c35-b409-4069-b2ad-534277107556",
   "metadata": {},
   "outputs": [
    {
     "data": {
      "text/plain": [
       "ChatCompletion(id='chatcmpl-BPAPQcsL0E0NaghkcjxLe64T2BCbI', choices=[Choice(finish_reason='stop', index=0, logprobs=None, message=ChatCompletionMessage(content='**Upwork Proposal**\\n\\nHi there,\\n\\nI’m Nicholas Joseph, a seasoned Product Manager with over 7 years of experience in Agile environments, and I’m excited about the opportunity to contribute to your fast-growing B2B SaaS startup. My background in managing cross-functional teams and my expertise in client engagement uniquely qualify me to lead your weekly customer calls and ensure all deliverables are on track.\\n\\nAt Spaulding Ridge, I successfully led the migration of complex data systems for high-profile clients, enhancing data efficiency by 98.9%. I excel in prioritizing customer requirements for development teams, running bi-weekly sprints, and facilitating daily stand-ups to keep projects moving forward. My experience interfacing with C-suite executives and presenting product performance insights has honed my ability to align customer needs with development goals effectively.\\n\\nAdditionally, my foundational work in my own business, NobleHands, allowed me to nurture client relationships and resolve conflicts through active listening and strategic communication, driving a 200% growth rate in a single year.\\n\\nI am eager to discuss how my skills can contribute to your team’s success. Let’s connect to explore this opportunity further!\\n\\nBest,  \\nNicholas Joseph  \\nnickpjoseph210@gmail.com  \\n(210) 771-9853  \\n[LinkedIn](https://www.linkedin.com/in/nickjosephsanantonio/)  \\n[GitHub](https://github.com/npj210mlk)', refusal=None, role='assistant', annotations=[], audio=None, function_call=None, tool_calls=None))], created=1745337912, model='gpt-4o-mini-2024-07-18', object='chat.completion', service_tier='default', system_fingerprint='fp_0392822090', usage=CompletionUsage(completion_tokens=289, prompt_tokens=1359, total_tokens=1648, completion_tokens_details=CompletionTokensDetails(accepted_prediction_tokens=0, audio_tokens=0, reasoning_tokens=0, rejected_prediction_tokens=0), prompt_tokens_details=PromptTokensDetails(audio_tokens=0, cached_tokens=0)))"
      ]
     },
     "execution_count": 12,
     "metadata": {},
     "output_type": "execute_result"
    }
   ],
   "source": [
    "# set up the api clent\n",
    "\n",
    "open_apikey = os.environ.get(\"openai_apikey\")\n",
    "\n",
    "client = OpenAI(api_key = open_apikey)\n",
    "\n",
    "# call the api\n",
    "response = client.chat.completions.create(\n",
    "    model = \"gpt-4o-mini\",\n",
    "    messages = [\n",
    "        {\"role\" : \"system\", \"content\" : \"Expert Proposal Writer\"},\n",
    "        {\"role\" : \"user\", \"content\" : prompt}\n",
    "    ], \n",
    "    temperature = 0.7\n",
    ")\n",
    "\n",
    "response\n",
    "# see the response\n",
    "# response_string = response.choices[0].message.content"
   ]
  },
  {
   "cell_type": "code",
   "execution_count": 13,
   "id": "b52ca26a-18f0-4ce6-ac3f-a78caae3216b",
   "metadata": {},
   "outputs": [
    {
     "data": {
      "text/plain": [
       "openai.types.chat.chat_completion.ChatCompletion"
      ]
     },
     "execution_count": 13,
     "metadata": {},
     "output_type": "execute_result"
    }
   ],
   "source": [
    "type(response)"
   ]
  },
  {
   "cell_type": "markdown",
   "id": "c8fd9ec2-be01-4426-b5af-8c524b79e632",
   "metadata": {},
   "source": [
    "***\n",
    "#### Since the response is \"openai.types.chat.chat_completion.ChatCompletion\" and we want to put this into a markdown file\n",
    "#### for editing, we want to extract the relevant data, iterate through choices, format said choices, and finally create\n",
    "#### the Markdown file for export.\n",
    "***"
   ]
  },
  {
   "cell_type": "code",
   "execution_count": 14,
   "id": "901f824b-6bd9-4a55-a4e5-28c89ba86a8f",
   "metadata": {},
   "outputs": [
    {
     "name": "stdout",
     "output_type": "stream",
     "text": [
      "OpenAI Chat Completion response exported to: /Users/nicholasjoseph/PromptEngineering/api_work/upwork_apply/upwork_apply/upwork_proposal.md\n"
     ]
    }
   ],
   "source": [
    "# create the response_data dictionary to hold the info\n",
    "response_data = {\n",
    "    \"id\": response.id,\n",
    "    \"model\": response.model,\n",
    "    \"created\": response.created,\n",
    "    \"object\": response.object,\n",
    "    \"choices\": []\n",
    "}\n",
    "\n",
    "# loop for going through the choices and formatting them\n",
    "for choice in response.choices:\n",
    "    choice_data = {\n",
    "        \"index\": choice.index,\n",
    "        \"finish_reason\": choice.finish_reason,\n",
    "        \"role\": choice.message.role,\n",
    "        \"content\": choice.message.content\n",
    "    }\n",
    "    response_data[\"choices\"].append(choice_data)\n",
    "\n",
    "# create the backbone of the markdown with the content in a codeblock for readability\n",
    "markdown_content = \"# OpenAI Chat Completion Response\\n\\n\"\n",
    "\n",
    "markdown_content += f\"- **ID:** {response_data['id']}\\n\"\n",
    "markdown_content += f\"- **Model:** {response_data['model']}\\n\"\n",
    "markdown_content += f\"- **Created (Timestamp):** {response_data['created']}\\n\"\n",
    "markdown_content += f\"- **Object:** {response_data['object']}\\n\\n\"\n",
    "\n",
    "markdown_content += \"## Choices:\\n\\n\"\n",
    "for choice in response_data['choices']:\n",
    "    markdown_content += f\"### Choice {choice['index'] + 1}\\n\\n\"\n",
    "    markdown_content += f\"- **Finish Reason:** {choice['finish_reason']}\\n\"\n",
    "    markdown_content += f\"- **Role:** {choice['role']}\\n\"\n",
    "    markdown_content += f\"- **Content:**\\n\"\n",
    "    markdown_content += \"```\\n\"\n",
    "    markdown_content += choice['content'] + \"\\n\"\n",
    "    markdown_content += \"```\\n\\n\"\n",
    "\n",
    "# create the location\n",
    "output_filename = \"upwork_proposal.md\"\n",
    "output_path = os.path.join(os.getcwd(), output_filename)\n",
    "\n",
    "# write the file\n",
    "with open(output_path, \"w\") as f:\n",
    "    f.write(markdown_content)\n",
    "\n",
    "print(f\"OpenAI Chat Completion response exported to: {output_path}\")"
   ]
  },
  {
   "cell_type": "code",
   "execution_count": null,
   "id": "20d216d2-3fa4-4326-806d-1be68e3cbc90",
   "metadata": {},
   "outputs": [],
   "source": []
  },
  {
   "cell_type": "code",
   "execution_count": null,
   "id": "cf876161-8763-4a6a-839b-5eedf47b3c9d",
   "metadata": {},
   "outputs": [],
   "source": []
  }
 ],
 "metadata": {
  "kernelspec": {
   "display_name": "Python 3 (ipykernel)",
   "language": "python",
   "name": "python3"
  },
  "language_info": {
   "codemirror_mode": {
    "name": "ipython",
    "version": 3
   },
   "file_extension": ".py",
   "mimetype": "text/x-python",
   "name": "python",
   "nbconvert_exporter": "python",
   "pygments_lexer": "ipython3",
   "version": "3.10.4"
  }
 },
 "nbformat": 4,
 "nbformat_minor": 5
}
